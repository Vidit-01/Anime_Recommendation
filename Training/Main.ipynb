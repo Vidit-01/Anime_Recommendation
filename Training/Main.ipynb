{
  "nbformat": 4,
  "nbformat_minor": 0,
  "metadata": {
    "colab": {
      "provenance": [],
      "gpuType": "V28"
    },
    "kernelspec": {
      "name": "python3",
      "display_name": "Python 3"
    },
    "language_info": {
      "name": "python"
    },
    "accelerator": "TPU"
  },
  "cells": [
    {
      "cell_type": "code",
      "source": [
        "!pip install opendatasets tensorflow"
      ],
      "metadata": {
        "id": "YSvMp83HqTkN"
      },
      "execution_count": null,
      "outputs": []
    },
    {
      "cell_type": "code",
      "source": [
        "import pandas as pd\n",
        "import tensorflow as tf\n",
        "import numpy as np\n",
        "import opendatasets as od"
      ],
      "metadata": {
        "id": "-ptSlwu-j9d2"
      },
      "execution_count": null,
      "outputs": []
    },
    {
      "cell_type": "code",
      "source": [
        "od.download(\n",
        "    \"<dataset>\")"
      ],
      "metadata": {
        "id": "FUu3Dizp2Tg1"
      },
      "execution_count": null,
      "outputs": []
    },
    {
      "cell_type": "code",
      "source": [
        "user_df = pd.read_csv(\"myanimelist/UserList.csv\",usecols=[\"username\"])\n",
        "anime_df = pd.read_csv(\"myanimelist/AnimeList.csv\",usecols=[\"anime_id\"])"
      ],
      "metadata": {
        "id": "wAjDZafw9WQJ"
      },
      "execution_count": null,
      "outputs": []
    },
    {
      "cell_type": "code",
      "source": [
        "usernames = tf.constant(ratings_df[\"username\"].astype(str).unique(), dtype=tf.string)\n",
        "anime_ids = tf.constant(ratings_df[\"anime_id\"].astype(str).unique(), dtype=tf.string)\n",
        "\n",
        "username_vocabulary = tf.keras.layers.StringLookup(vocabulary=usernames, mask_token=None)\n",
        "anime_ids_vocabulary = tf.keras.layers.StringLookup(vocabulary=anime_ids, mask_token=None)"
      ],
      "metadata": {
        "id": "YugiQ2wmi-Oa"
      },
      "execution_count": null,
      "outputs": []
    },
    {
      "cell_type": "code",
      "source": [
        "merged_df = pd.merge(anime_df, df, on=\"anime_id\", how=\"left\")"
      ],
      "metadata": {
        "id": "-7u9A_VVmcq_"
      },
      "execution_count": null,
      "outputs": []
    },
    {
      "cell_type": "code",
      "source": [
        "merged_df.to_csv(\"anime_images.csv\", index=False)"
      ],
      "metadata": {
        "id": "p1hDgIuMl7gt"
      },
      "execution_count": null,
      "outputs": []
    },
    {
      "cell_type": "code",
      "source": [
        "embedding_dim = 64\n",
        "\n",
        "user_model = tf.keras.Sequential([\n",
        "    user_ids_vocabulary,\n",
        "    tf.keras.layers.Embedding(len(user_ids_vocabulary.get_vocabulary()), embedding_dim)\n",
        "])\n",
        "\n",
        "anime_model = tf.keras.Sequential([\n",
        "    anime_ids_vocabulary,\n",
        "    tf.keras.layers.Embedding(len(anime_ids_vocabulary.get_vocabulary()), embedding_dim)\n",
        "])"
      ],
      "metadata": {
        "id": "AA7gof5l-BAb"
      },
      "execution_count": null,
      "outputs": []
    },
    {
      "cell_type": "code",
      "source": [
        "class RecommenderModel(tfrs.Model):\n",
        "    def __init__(self, user_model, anime_model):\n",
        "        super().__init__()\n",
        "        self.user_model = user_model\n",
        "        self.anime_model = anime_model\n",
        "        self.task = tfrs.tasks.Retrieval(\n",
        "        metrics= tfrs.metrics.FactorizedTopK(\n",
        "            candidates=ratings.batch(128).map(lambda c: (c[\"anime_id\"]))\n",
        "        ))\n",
        "\n",
        "    def compute_loss(self, features, training=False):\n",
        "        user_embeddings = self.user_model(features[\"user_id\"])\n",
        "        anime_embeddings = self.anime_model(features[\"anime_id\"])\n",
        "        return self.task(user_embeddings, anime_embeddings)"
      ],
      "metadata": {
        "id": "uX1SiQzs8ED4"
      },
      "execution_count": null,
      "outputs": []
    },
    {
      "cell_type": "code",
      "source": [
        "model = RecommenderModel(user_model, anime_model)\n",
        "model.compile(optimizer=tf.keras.optimizers.Adagrad(0.1))\n",
        "\n",
        "cached_ratings = ratings.shuffle(100_000).batch(8192).cache()\n",
        "model.fit(cached_ratings, epochs=5)\n"
      ],
      "metadata": {
        "id": "7BVoT0GcAJ9y"
      },
      "execution_count": null,
      "outputs": []
    }
  ]
}